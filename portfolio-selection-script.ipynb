{
 "cells": [
  {
   "cell_type": "markdown",
   "id": "300d26ea",
   "metadata": {},
   "source": [
    "# **Portfolio Selection Assignment**"
   ]
  },
  {
   "cell_type": "code",
   "execution_count": 1,
   "id": "7a5c49d0",
   "metadata": {},
   "outputs": [],
   "source": [
    "# Imports\n",
    "import pandas as pd\n",
    "import numpy as np"
   ]
  },
  {
   "cell_type": "code",
   "execution_count": null,
   "id": "d0b23f7e",
   "metadata": {},
   "outputs": [],
   "source": [
    "# Function to allocate portfolio\n",
    "def allocate_portfolio(tickers, last_price, weights, total_portfolio_value=100000):\n",
    "    \"\"\"\n",
    "    Allocate portfolio based on weights, scale to portfolio value, \n",
    "    and compute integer share allocations.\n",
    "    \n",
    "    Parameters\n",
    "    ----------\n",
    "    tickers : list of str\n",
    "        List of stock tickers.\n",
    "    last_price : np.ndarray\n",
    "        Array of last prices for each stock.\n",
    "    weights : np.ndarray\n",
    "        Array of portfolio weights for each stock.\n",
    "    total_portfolio_value : float, optional\n",
    "        Total value of the portfolio to allocate (default is 100000).\n",
    "    \n",
    "    Returns\n",
    "    -------\n",
    "    results : pd.DataFrame\n",
    "        DataFrame with ticker, final shares, and leftover cash info.\n",
    "    \"\"\"\n",
    "    \n",
    "    # Scaling the ratios to the total portfolio value\n",
    "    dollar_allocation = weights * total_portfolio_value\n",
    "\n",
    "    # Calculating the number of shares to buy for each stock\n",
    "    pre_round_shares = dollar_allocation / last_price\n",
    "\n",
    "    # Rounding shares\n",
    "    # Because of the strict \"no-over-allocation\" rule, rounding down should be used\n",
    "    # But if the generally preferred simple rounding does not exceed the the total allocation it should be used\n",
    "    if (np.round(pre_round_shares) * last_price).sum() > total_portfolio_value:\n",
    "        final_shares = np.floor(pre_round_shares).astype(int)\n",
    "    else:\n",
    "        final_shares = np.round(pre_round_shares).astype(int)\n",
    "\n",
    "    # Calculating used capital and leftover cash\n",
    "    actual_total_investment = sum(final_shares * last_price)\n",
    "\n",
    "    # Display results\n",
    "    print(f\"Actual total investment in risky assets: ${actual_total_investment:.0f}\")\n",
    "    print(f\"Leftover cash to invest in risky-free asset: ${(total_portfolio_value - actual_total_investment):.0f}\")\n",
    "\n",
    "    # Only the necessary columns\n",
    "    results = pd.DataFrame({\n",
    "        \"Ticker\": tickers,\n",
    "        \"Final Shares\": final_shares\n",
    "    })\n",
    "\n",
    "    return results"
   ]
  },
  {
   "cell_type": "markdown",
   "id": "b2093f7e",
   "metadata": {},
   "source": [
    "## **Part I.**\n",
    "### **Week 1 - Classic Positive Momentum Strategy**"
   ]
  },
  {
   "cell_type": "code",
   "execution_count": 4,
   "id": "db0a2a25",
   "metadata": {},
   "outputs": [
    {
     "name": "stdout",
     "output_type": "stream",
     "text": [
      "Actual total investment in risky assets: $95454\n",
      "Leftover cash to invest in risky-free asset: $4546\n"
     ]
    }
   ],
   "source": [
    "# Loading data\n",
    "prices_w1 = pd.read_excel(\"Week 1/week_1_price_data.xlsx\")\n",
    "\n",
    "# Calculating the 12-month return\n",
    "# Only if last year's closing price is not zero\n",
    "prices_w1[\"return_12m\"] = np.where(prices_w1[\"Close_2022\"] != 0,\n",
    "                                   prices_w1[\"Close_2023\"] / prices_w1[\"Close_2022\"] - 1,\n",
    "                                   0)\n",
    "\n",
    "# Filtering for positive returns\n",
    "prices_w1[\"positive_return\"] = np.where(prices_w1[\"return_12m\"] > 0,\n",
    "                                        prices_w1[\"return_12m\"],\n",
    "                                        0)\n",
    "\n",
    "# Calculating the weight for each positive return stock\n",
    "prices_w1[\"portfolio_weight\"] = prices_w1[\"positive_return\"] / sum(prices_w1[\"positive_return\"])\n",
    "\n",
    "# Allocating portfolio\n",
    "results = allocate_portfolio(\n",
    "    tickers=prices_w1[\"Ticker_symbol\"],\n",
    "    last_price=prices_w1[\"Close_2023\"],\n",
    "    weights=prices_w1[\"portfolio_weight\"])\n",
    "\n",
    "# Exporting results\n",
    "results.to_excel(\"Week 1/week_1_results.xlsx\")"
   ]
  },
  {
   "cell_type": "markdown",
   "id": "eb192b75",
   "metadata": {},
   "source": [
    "## **Part II.**"
   ]
  },
  {
   "cell_type": "markdown",
   "id": "7152daa8",
   "metadata": {},
   "source": [
    "### **Week 2 - Tangency Portfolio using Mean-Variance Analysis**"
   ]
  },
  {
   "cell_type": "code",
   "execution_count": 22,
   "id": "401e8b90",
   "metadata": {},
   "outputs": [
    {
     "name": "stdout",
     "output_type": "stream",
     "text": [
      "Actual total investment in risky assets: $95710\n",
      "Leftover cash to invest in risky-free asset: $4290\n"
     ]
    }
   ],
   "source": [
    "# Loading data\n",
    "prices_w2 = pd.read_excel(\"Week 2/week_2_price_data.xlsx\")\n",
    "\n",
    "# Take absolute price values\n",
    "# Some prices are negative due to data errors\n",
    "prices_w2[\"Price\"] = prices_w2[\"Price\"].abs()\n",
    "\n",
    "# Drop rows missing essential fields to avoid unexpected NaNs\n",
    "prices_w2 = prices_w2.dropna(subset=[\"Date\", \"Ticker Symbol\", \"Price\"])\n",
    "\n",
    "# Transforming the data to wide format\n",
    "prices_w2_wide = prices_w2.pivot_table(index=\"Date\", columns=\"Ticker Symbol\", values=\"Price\", aggfunc=\"last\")\n",
    "\n",
    "# Sort the index (dates) to ensure chronological order\n",
    "prices_w2_wide = prices_w2_wide.sort_index()\n",
    "\n",
    "# Drop columns with any NaN values to ensure clean return calculations\n",
    "# And filter out stocks that might not longer be traded\n",
    "prices_w2_wide = prices_w2_wide.dropna(axis=1)\n",
    "\n",
    "# Compute returns\n",
    "returns = prices_w2_wide.pct_change()\n",
    "\n",
    "# Drop the first row\n",
    "returns = returns.drop(returns.index[0])\n",
    "\n",
    "# Expected returns (mean per period)\n",
    "mu = returns.mean().values\n",
    "\n",
    "# Covariance matrix\n",
    "Sigma = returns.cov().values\n",
    "\n",
    "# Stock tickers\n",
    "tickers = returns.columns\n",
    "\n",
    "# Inverse covariance\n",
    "Sigma_inv = np.linalg.inv(Sigma)\n",
    "\n",
    "# Tangency weights (without risk-free rate)\n",
    "raw_weights = Sigma_inv @ mu\n",
    "#tangency_weights = raw_weights / np.sum(raw_weights)\n",
    "\n",
    "# Set negative weights to zero and renormalize\n",
    "raw_weights = np.maximum(raw_weights, 0)\n",
    "tangency_weights = raw_weights / raw_weights.sum() if raw_weights.sum() > 0 else raw_weights\n",
    "\n",
    "# Allocating portfolio\n",
    "results = allocate_portfolio(\n",
    "    tickers=tickers,\n",
    "    last_price=prices_w2_wide.iloc[-1].values,\n",
    "    weights=tangency_weights)\n",
    "\n",
    "# Exporting results\n",
    "results.to_excel(\"Week 2/week_2_results.xlsx\")"
   ]
  },
  {
   "cell_type": "markdown",
   "id": "08545283",
   "metadata": {},
   "source": [
    "### **Week 3 - ?**"
   ]
  },
  {
   "cell_type": "markdown",
   "id": "1fa1d4bf",
   "metadata": {},
   "source": [
    "### **Week 4 - ?**"
   ]
  },
  {
   "cell_type": "markdown",
   "id": "cad82009",
   "metadata": {},
   "source": [
    "### **Week 5 - ?**"
   ]
  },
  {
   "cell_type": "markdown",
   "id": "4657c228",
   "metadata": {},
   "source": [
    "### **Week 6 - ?**"
   ]
  }
 ],
 "metadata": {
  "kernelspec": {
   "display_name": "base",
   "language": "python",
   "name": "python3"
  },
  "language_info": {
   "codemirror_mode": {
    "name": "ipython",
    "version": 3
   },
   "file_extension": ".py",
   "mimetype": "text/x-python",
   "name": "python",
   "nbconvert_exporter": "python",
   "pygments_lexer": "ipython3",
   "version": "3.12.2"
  }
 },
 "nbformat": 4,
 "nbformat_minor": 5
}
